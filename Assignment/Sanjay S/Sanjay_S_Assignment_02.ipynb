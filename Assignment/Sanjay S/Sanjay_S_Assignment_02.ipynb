{
  "cells": [
    {
      "cell_type": "markdown",
      "metadata": {
        "id": "cVT9159kO2u9"
      },
      "source": [
        "**Load Dataset**"
      ]
    },
    {
      "cell_type": "code",
      "execution_count": null,
      "metadata": {
        "id": "WXDaEVKZB24u"
      },
      "outputs": [],
      "source": [
        "import pandas as pd"
      ]
    },
    {
      "cell_type": "code",
      "execution_count": null,
      "metadata": {
        "id": "azcgN147Qu_A"
      },
      "outputs": [],
      "source": [
        "df=pd.read_csv('/content/Churn_Modelling.csv')"
      ]
    },
    {
      "cell_type": "code",
      "execution_count": null,
      "metadata": {
        "id": "37eCRHQCcmfc"
      },
      "outputs": [],
      "source": [
        "df"
      ]
    },
    {
      "cell_type": "markdown",
      "metadata": {
        "id": "5hPdfHseSN_x"
      },
      "source": [
        "**Visualizations**"
      ]
    },
    {
      "cell_type": "markdown",
      "metadata": {
        "id": "3Ke4-haMSRFD"
      },
      "source": [
        "1)Univariate Analysis"
      ]
    },
    {
      "cell_type": "code",
      "execution_count": null,
      "metadata": {
        "id": "YBd9qPrnSUQm"
      },
      "outputs": [],
      "source": [
        "import matplotlib.pyplot as plt\n",
        "import numpy as np"
      ]
    },
    {
      "cell_type": "code",
      "execution_count": null,
      "metadata": {
        "id": "-qM3L5QXSNKI"
      },
      "outputs": [],
      "source": [
        "df_ex_0=df.loc[df['Exited']==0]"
      ]
    },
    {
      "cell_type": "code",
      "execution_count": null,
      "metadata": {
        "id": "o1lEWQHwRTn_"
      },
      "outputs": [],
      "source": [
        "df_ex_1=df.loc[df['Exited']==1]"
      ]
    },
    {
      "cell_type": "code",
      "execution_count": null,
      "metadata": {
        "id": "vCGYvjUbRlZk"
      },
      "outputs": [],
      "source": [
        "plt.plot(df_ex_0['Balance'],np.zeros_like(df_ex_0['Balance']),color='green')\n",
        "plt.xlabel('Balance')\n",
        "plt.show()\n"
      ]
    },
    {
      "cell_type": "markdown",
      "metadata": {
        "id": "ovjjerUgeFef"
      },
      "source": [
        "2)Bivariate Analysis"
      ]
    },
    {
      "cell_type": "code",
      "execution_count": null,
      "metadata": {
        "id": "bTOGkWBWeE0b"
      },
      "outputs": [],
      "source": [
        "import seaborn as sns \n",
        "sns.FacetGrid(df,hue='Exited',size=5).map(plt.scatter,'CreditScore','Balance').add_legend()"
      ]
    },
    {
      "cell_type": "markdown",
      "metadata": {
        "id": "EcpUAXzlVLSz"
      },
      "source": [
        "3)Multivariate Analysis"
      ]
    },
    {
      "cell_type": "code",
      "execution_count": null,
      "metadata": {
        "id": "bw0hmKaSVO6X"
      },
      "outputs": [],
      "source": [
        "sns.pairplot(df,hue='Exited',height=5)"
      ]
    },
    {
      "cell_type": "markdown",
      "metadata": {
        "id": "saEWnflztBuK"
      },
      "source": [
        "**Descriptive Statistics**"
      ]
    },
    {
      "cell_type": "code",
      "execution_count": null,
      "metadata": {
        "id": "WE12EaLZSFL7"
      },
      "outputs": [],
      "source": [
        "df.describe(include='all')"
      ]
    },
    {
      "cell_type": "markdown",
      "metadata": {
        "id": "E8ZIzFYAtUaD"
      },
      "source": [
        "**Handling Missing Values**"
      ]
    },
    {
      "cell_type": "code",
      "execution_count": null,
      "metadata": {
        "id": "A9lHEvaZR5EO"
      },
      "outputs": [],
      "source": [
        "df.isnull().sum()"
      ]
    },
    {
      "cell_type": "markdown",
      "metadata": {
        "id": "Cy13LKAvtawK"
      },
      "source": [
        "**Find and Replace Outliers**"
      ]
    },
    {
      "cell_type": "code",
      "execution_count": null,
      "metadata": {
        "id": "kIqPpzTJteNU"
      },
      "outputs": [],
      "source": [
        "import seaborn as sns"
      ]
    },
    {
      "cell_type": "code",
      "execution_count": null,
      "metadata": {
        "id": "id0ChKDatsBb"
      },
      "outputs": [],
      "source": [
        "sns.boxplot(df['Balance'])"
      ]
    },
    {
      "cell_type": "markdown",
      "metadata": {
        "id": "cwNU6Rm2vLNH"
      },
      "source": [
        "**Encoding**"
      ]
    },
    {
      "cell_type": "code",
      "execution_count": null,
      "metadata": {
        "id": "LJWnasVJvNgg"
      },
      "outputs": [],
      "source": [
        "from sklearn.preprocessing import LabelEncoder\n",
        "from collections import Counter as count"
      ]
    },
    {
      "cell_type": "code",
      "execution_count": null,
      "metadata": {
        "id": "sg2jbo0jvcTR"
      },
      "outputs": [],
      "source": [
        "le=LabelEncoder()"
      ]
    },
    {
      "cell_type": "code",
      "execution_count": null,
      "metadata": {
        "id": "KWqNj7civkW_"
      },
      "outputs": [],
      "source": [
        "df['Geography']=le.fit_transform(df['Geography'])\n",
        "df['Gender']=le.fit_transform(df['Gender'])\n",
        "df['Surname']=le.fit_transform(df['Surname'])"
      ]
    },
    {
      "cell_type": "code",
      "execution_count": null,
      "metadata": {
        "id": "DhlDpembv8-i"
      },
      "outputs": [],
      "source": [
        "df"
      ]
    },
    {
      "cell_type": "markdown",
      "metadata": {
        "id": "Pi8vqKnOw3f3"
      },
      "source": [
        "**Dependent and Independent variables**"
      ]
    },
    {
      "cell_type": "code",
      "execution_count": null,
      "metadata": {
        "id": "YgpjTlErx6Xd"
      },
      "outputs": [],
      "source": [
        "x=df.iloc[:,0:13]"
      ]
    },
    {
      "cell_type": "code",
      "execution_count": null,
      "metadata": {
        "id": "iYi0onhVzV_r"
      },
      "outputs": [],
      "source": [
        "y=df['Exited']"
      ]
    },
    {
      "cell_type": "markdown",
      "metadata": {
        "id": "J98Xy8Ddzhwo"
      },
      "source": [
        "**Test and Training Data**"
      ]
    },
    {
      "cell_type": "code",
      "execution_count": null,
      "metadata": {
        "id": "8idycHkpz5Sm"
      },
      "outputs": [],
      "source": [
        "from sklearn.model_selection import train_test_split"
      ]
    },
    {
      "cell_type": "code",
      "execution_count": null,
      "metadata": {
        "id": "g5JySQ7t0DEl"
      },
      "outputs": [],
      "source": [
        "xtrain,xtest,ytrain,ytest=train_test_split(x,y,test_size=0.3,random_state=10)"
      ]
    },
    {
      "cell_type": "markdown",
      "metadata": {
        "id": "bYhvZ1D70W7j"
      },
      "source": [
        "**Scaling**"
      ]
    },
    {
      "cell_type": "code",
      "execution_count": null,
      "metadata": {
        "id": "TCocxMfO0V9R"
      },
      "outputs": [],
      "source": [
        "from sklearn.preprocessing import StandardScaler"
      ]
    },
    {
      "cell_type": "code",
      "execution_count": null,
      "metadata": {
        "id": "AZ2uj7E10c1-"
      },
      "outputs": [],
      "source": [
        "sc=StandardScaler()"
      ]
    },
    {
      "cell_type": "code",
      "execution_count": null,
      "metadata": {
        "id": "dA4coLZ10fuC"
      },
      "outputs": [],
      "source": [
        "sc_xtrain=sc.fit_transform(xtrain)"
      ]
    },
    {
      "cell_type": "code",
      "execution_count": null,
      "metadata": {
        "id": "_2wVNhWy0nAB"
      },
      "outputs": [],
      "source": [
        "sc_xtest=sc.transform(xtest)"
      ]
    },
    {
      "cell_type": "code",
      "execution_count": null,
      "metadata": {
        "id": "iF3zVxL60rky"
      },
      "outputs": [],
      "source": [
        "sc_xtrain"
      ]
    },
    {
      "cell_type": "code",
      "execution_count": null,
      "metadata": {
        "id": "NLmFAK-P0vJt"
      },
      "outputs": [],
      "source": [
        "sc_xtest"
      ]
    }
  ],
  "metadata": {
    "colab": {
      "provenance": []
    },
    "kernelspec": {
      "display_name": "Python 3",
      "name": "python3"
    },
    "language_info": {
      "name": "python"
    }
  },
  "nbformat": 4,
  "nbformat_minor": 0
}