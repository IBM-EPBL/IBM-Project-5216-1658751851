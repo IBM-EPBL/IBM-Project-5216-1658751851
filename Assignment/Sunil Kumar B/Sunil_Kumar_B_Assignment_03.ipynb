{
  "cells": [
    {
      "cell_type": "markdown",
      "metadata": {
        "id": "ntGzBFXcFLK9"
      },
      "source": [
        "1)Extract"
      ]
    },
    {
      "cell_type": "code",
      "execution_count": null,
      "metadata": {
        "id": "jzugK63iFLLF"
      },
      "outputs": [],
      "source": [
        "!unzip '/content/Flowers_Dataset.zip'"
      ]
    },
    {
      "cell_type": "markdown",
      "metadata": {
        "id": "y4WYH4zyUVyM"
      },
      "source": [
        "2)Image Augmentation"
      ]
    },
    {
      "cell_type": "code",
      "execution_count": 4,
      "metadata": {
        "id": "ALkPT24lUZwM"
      },
      "outputs": [],
      "source": [
        "from tensorflow.keras.preprocessing.image import ImageDataGenerator"
      ]
    },
    {
      "cell_type": "code",
      "execution_count": 5,
      "metadata": {
        "id": "U_iOkYTaVFmj"
      },
      "outputs": [],
      "source": [
        "train_datagen=ImageDataGenerator(rescale=1./255,zoom_range=0.2,horizontal_flip=True,vertical_flip=True)"
      ]
    },
    {
      "cell_type": "code",
      "execution_count": 6,
      "metadata": {
        "id": "pwNH0zb5VVCp"
      },
      "outputs": [],
      "source": [
        "test_datagen=ImageDataGenerator(rescale=1./255)"
      ]
    },
    {
      "cell_type": "markdown",
      "metadata": {
        "id": "GcGeb0sUVcWF"
      },
      "source": [
        "Load Data"
      ]
    },
    {
      "cell_type": "code",
      "execution_count": null,
      "metadata": {
        "id": "OyCC_6uQVdxh"
      },
      "outputs": [],
      "source": [
        "x_train=train_datagen.flow_from_directory(r\"/content/Flowers/Training\",target_size=(64,64),class_mode='categorical',batch_size=24)"
      ]
    },
    {
      "cell_type": "code",
      "execution_count": null,
      "metadata": {
        "id": "MkvwQIugWFEa"
      },
      "outputs": [],
      "source": [
        "x_test=test_datagen.flow_from_directory(r\"/content/Flowers/Testing\",target_size=(64,64),class_mode='categorical',batch_size=24)"
      ]
    },
    {
      "cell_type": "code",
      "execution_count": null,
      "metadata": {
        "id": "kkvJc6geZFYu"
      },
      "outputs": [],
      "source": [
        "x_train.class_indices"
      ]
    },
    {
      "cell_type": "code",
      "execution_count": null,
      "metadata": {
        "id": "2byqaTSyZMzG"
      },
      "outputs": [],
      "source": [
        "x_test.class_indices"
      ]
    },
    {
      "cell_type": "markdown",
      "metadata": {
        "id": "_OGHwQ4ZZSI4"
      },
      "source": [
        "3)Create Model"
      ]
    },
    {
      "cell_type": "code",
      "execution_count": 11,
      "metadata": {
        "id": "Dbo4rsiWZQfV"
      },
      "outputs": [],
      "source": [
        "from tensorflow.keras.models import Sequential"
      ]
    },
    {
      "cell_type": "code",
      "execution_count": 12,
      "metadata": {
        "id": "u5F53DwDZc2J"
      },
      "outputs": [],
      "source": [
        "from tensorflow.keras.layers import Dense,Convolution2D,MaxPooling2D,Flatten"
      ]
    },
    {
      "cell_type": "code",
      "execution_count": 13,
      "metadata": {
        "id": "Kh0MJhnzZqvq"
      },
      "outputs": [],
      "source": [
        "model=Sequential()"
      ]
    },
    {
      "cell_type": "markdown",
      "metadata": {
        "id": "wF9vJMy-ZuQP"
      },
      "source": [
        "4)Add Layers"
      ]
    },
    {
      "cell_type": "markdown",
      "metadata": {
        "id": "jXofWbo_baMf"
      },
      "source": [
        "a)Convolution Layer"
      ]
    },
    {
      "cell_type": "code",
      "execution_count": 14,
      "metadata": {
        "id": "qwd0fVdXZyy_"
      },
      "outputs": [],
      "source": [
        "model.add(Convolution2D(32,(3,3),kernel_initializer=\"random_uniform\",activation=\"relu\",strides=(1,1),input_shape=(64,64,3)))"
      ]
    },
    {
      "cell_type": "markdown",
      "metadata": {
        "id": "qNoWPwELbcqF"
      },
      "source": [
        "b)MaxPooling Layer"
      ]
    },
    {
      "cell_type": "code",
      "execution_count": 15,
      "metadata": {
        "id": "9Al05_fObCMm"
      },
      "outputs": [],
      "source": [
        "model.add(MaxPooling2D(pool_size=(2,2)))"
      ]
    },
    {
      "cell_type": "markdown",
      "metadata": {
        "id": "zRWn36tybfBu"
      },
      "source": [
        "c)Flatten"
      ]
    },
    {
      "cell_type": "code",
      "execution_count": 16,
      "metadata": {
        "id": "nJiX1yhLbKJl"
      },
      "outputs": [],
      "source": [
        "model.add(Flatten())"
      ]
    },
    {
      "cell_type": "markdown",
      "metadata": {
        "id": "ylGKS6JybguJ"
      },
      "source": [
        "d)Dense(Hidden layer)"
      ]
    },
    {
      "cell_type": "code",
      "execution_count": 17,
      "metadata": {
        "id": "d0ETXjoTbS5k"
      },
      "outputs": [],
      "source": [
        "model.add(Dense(300,activation=\"relu\"))"
      ]
    },
    {
      "cell_type": "code",
      "execution_count": 18,
      "metadata": {
        "id": "GbueLfcXbmie"
      },
      "outputs": [],
      "source": [
        "model.add(Dense(300,activation=\"relu\"))"
      ]
    },
    {
      "cell_type": "markdown",
      "metadata": {
        "id": "yGIE4Ku1buCG"
      },
      "source": [
        "e)Output layer"
      ]
    },
    {
      "cell_type": "code",
      "execution_count": 19,
      "metadata": {
        "id": "YzkiUMUgbv1O"
      },
      "outputs": [],
      "source": [
        "model.add(Dense(5,activation=\"softmax\"))"
      ]
    },
    {
      "cell_type": "markdown",
      "metadata": {
        "id": "RzyhjF8CcE_T"
      },
      "source": [
        "5)Compile the model"
      ]
    },
    {
      "cell_type": "code",
      "execution_count": 20,
      "metadata": {
        "id": "yc2D8UqUcG7N"
      },
      "outputs": [],
      "source": [
        "model.compile(loss=\"categorical_crossentropy\",metrics=['accuracy'],optimizer='adam')"
      ]
    },
    {
      "cell_type": "markdown",
      "metadata": {
        "id": "Q0mtlruscWgv"
      },
      "source": [
        "6)Fit the model"
      ]
    },
    {
      "cell_type": "code",
      "execution_count": null,
      "metadata": {
        "id": "j7u6oDmzjYNL"
      },
      "outputs": [],
      "source": [
        "model.fit(x_train,epochs=5,steps_per_epoch=len(x_train),validation_data=x_test,validation_steps=len(x_test))"
      ]
    },
    {
      "cell_type": "markdown",
      "metadata": {
        "id": "K4g5kJQHsS5t"
      },
      "source": [
        "7)Save the model"
      ]
    },
    {
      "cell_type": "code",
      "execution_count": 31,
      "metadata": {
        "id": "O_UytqELsYfG"
      },
      "outputs": [],
      "source": [
        "model.save(\"Flowers.h5\")"
      ]
    },
    {
      "cell_type": "markdown",
      "metadata": {
        "id": "s4BSOQlytiqT"
      },
      "source": [
        "8)Test the model"
      ]
    },
    {
      "cell_type": "code",
      "execution_count": 24,
      "metadata": {
        "id": "gNCyyslHtlh5"
      },
      "outputs": [],
      "source": [
        "import numpy as np\n",
        "from tensorflow.keras.models import load_model\n",
        "from tensorflow.keras.preprocessing import image"
      ]
    },
    {
      "cell_type": "code",
      "execution_count": 32,
      "metadata": {
        "id": "DGYLQeCVt08r"
      },
      "outputs": [],
      "source": [
        "model=load_model(\"Flowers.h5\")"
      ]
    },
    {
      "cell_type": "code",
      "execution_count": 50,
      "metadata": {
        "id": "aZOkc2nEt6dB"
      },
      "outputs": [],
      "source": [
        "img=image.load_img(r\"/content/Flowers/Testing/sunflower/1008566138_6927679c8a.jpg\",target_size=(64,64))"
      ]
    },
    {
      "cell_type": "code",
      "execution_count": 51,
      "metadata": {
        "colab": {
          "base_uri": "https://localhost:8080/",
          "height": 81
        },
        "id": "VHlngIjmyQRw",
        "outputId": "2180a3b6-1da5-49d4-bb76-29faf41e3362"
      },
      "outputs": [
        {
          "output_type": "execute_result",
          "data": {
            "text/plain": [
              "<PIL.Image.Image image mode=RGB size=64x64 at 0x7F94272B2850>"
            ],
            "image/png": "[encoded data removed]"
          },
          "metadata": {},
          "execution_count": 51
        }
      ],
      "source": [
        "img"
      ]
    },
    {
      "cell_type": "code",
      "execution_count": 52,
      "metadata": {
        "id": "Cm7h-nQ5uMnU"
      },
      "outputs": [],
      "source": [
        "x=image.img_to_array(img)"
      ]
    },
    {
      "cell_type": "code",
      "execution_count": 53,
      "metadata": {
        "id": "UB4aHhV4yI_0"
      },
      "outputs": [],
      "source": [
        "x=np.expand_dims(x,axis=0)"
      ]
    },
    {
      "cell_type": "code",
      "execution_count": null,
      "metadata": {
        "id": "44b1sUSFuePV"
      },
      "outputs": [],
      "source": [
        "pred=model.predict(x)"
      ]
    },
    {
      "cell_type": "code",
      "execution_count": null,
      "metadata": {
        "id": "XC1ssCMIyT_N"
      },
      "outputs": [],
      "source": [
        "pred"
      ]
    },
    {
      "cell_type": "code",
      "execution_count": 56,
      "metadata": {
        "id": "gudpSl7mya9-"
      },
      "outputs": [],
      "source": [
        "index=['daisy','dandelion','rose','sunflower','tulip']"
      ]
    },
    {
      "cell_type": "code",
      "execution_count": null,
      "metadata": {
        "id": "BNmov_x6zB2_"
      },
      "outputs": [],
      "source": [
        "index[np.argmax(pred)]"
      ]
    }
  ],
  "metadata": {
    "colab": {
      "collapsed_sections": [],
      "provenance": []
    },
    "kernelspec": {
      "display_name": "Python 3.10.0 64-bit",
      "language": "python",
      "name": "python3"
    },
    "language_info": {
      "name": "python",
      "version": "3.10.0"
    },
    "vscode": {
      "interpreter": {
        "hash": "aee8b7b246df8f9039afb4144a1f6fd8d2ca17a180786b69acc140d282b71a49"
      }
    }
  },
  "nbformat": 4,
  "nbformat_minor": 0
}